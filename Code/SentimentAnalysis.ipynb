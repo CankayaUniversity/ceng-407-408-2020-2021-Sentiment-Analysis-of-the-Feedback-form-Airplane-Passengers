{
  "nbformat": 4,
  "nbformat_minor": 0,
  "metadata": {
    "colab": {
      "name": "SentimentAnalysis.ipynb",
      "provenance": [],
      "collapsed_sections": []
    },
    "kernelspec": {
      "name": "python3",
      "display_name": "Python 3"
    },
    "language_info": {
      "name": "python"
    }
  },
  "cells": [
    {
      "cell_type": "code",
      "metadata": {
        "id": "HwbM9FHbp2Ky"
      },
      "source": [
        "import re\n",
        "import warnings \n",
        "import nltk\n",
        "from nltk.tokenize import TweetTokenizer \n",
        "from nltk.stem.snowball import SnowballStemmer \n",
        "import pandas as pd\n",
        "import nltk\n",
        "from nltk.tokenize import TweetTokenizer \n",
        "from nltk.stem.snowball import SnowballStemmer"
      ],
      "execution_count": null,
      "outputs": []
    },
    {
      "cell_type": "code",
      "metadata": {
        "id": "_Fl89DoOqEOk"
      },
      "source": [
        "%matplotlib inline\n",
        "warnings.filterwarnings(\"ignore\")"
      ],
      "execution_count": null,
      "outputs": []
    },
    {
      "cell_type": "code",
      "metadata": {
        "colab": {
          "base_uri": "https://localhost:8080/",
          "height": 892
        },
        "id": "IvAMHKvzqG0f",
        "outputId": "be33af8a-170e-443b-c4a1-c07d6ea48f02"
      },
      "source": [
        "tweets_data = pd.read_csv(\"https://raw.githubusercontent.com/CankayaUniversity/ceng-407-408-2020-2021-Sentiment-Analysis-of-the-Feedback-form-Airplane-Passengers/main/Tweets.csv\") \n",
        " \n",
        "tweets_data"
      ],
      "execution_count": null,
      "outputs": [
        {
          "output_type": "execute_result",
          "data": {
            "text/html": [
              "<div>\n",
              "<style scoped>\n",
              "    .dataframe tbody tr th:only-of-type {\n",
              "        vertical-align: middle;\n",
              "    }\n",
              "\n",
              "    .dataframe tbody tr th {\n",
              "        vertical-align: top;\n",
              "    }\n",
              "\n",
              "    .dataframe thead th {\n",
              "        text-align: right;\n",
              "    }\n",
              "</style>\n",
              "<table border=\"1\" class=\"dataframe\">\n",
              "  <thead>\n",
              "    <tr style=\"text-align: right;\">\n",
              "      <th></th>\n",
              "      <th>tweet_id</th>\n",
              "      <th>airline_sentiment</th>\n",
              "      <th>airline_sentiment_confidence</th>\n",
              "      <th>negativereason</th>\n",
              "      <th>negativereason_confidence</th>\n",
              "      <th>airline</th>\n",
              "      <th>airline_sentiment_gold</th>\n",
              "      <th>name</th>\n",
              "      <th>negativereason_gold</th>\n",
              "      <th>retweet_count</th>\n",
              "      <th>text</th>\n",
              "      <th>tweet_coord</th>\n",
              "      <th>tweet_created</th>\n",
              "      <th>tweet_location</th>\n",
              "      <th>user_timezone</th>\n",
              "    </tr>\n",
              "  </thead>\n",
              "  <tbody>\n",
              "    <tr>\n",
              "      <th>0</th>\n",
              "      <td>570306133677760513</td>\n",
              "      <td>neutral</td>\n",
              "      <td>1.0000</td>\n",
              "      <td>NaN</td>\n",
              "      <td>NaN</td>\n",
              "      <td>Virgin America</td>\n",
              "      <td>NaN</td>\n",
              "      <td>cairdin</td>\n",
              "      <td>NaN</td>\n",
              "      <td>0</td>\n",
              "      <td>@VirginAmerica What @dhepburn said.</td>\n",
              "      <td>NaN</td>\n",
              "      <td>2015-02-24 11:35:52 -0800</td>\n",
              "      <td>NaN</td>\n",
              "      <td>Eastern Time (US &amp; Canada)</td>\n",
              "    </tr>\n",
              "    <tr>\n",
              "      <th>1</th>\n",
              "      <td>570301130888122368</td>\n",
              "      <td>positive</td>\n",
              "      <td>0.3486</td>\n",
              "      <td>NaN</td>\n",
              "      <td>0.0000</td>\n",
              "      <td>Virgin America</td>\n",
              "      <td>NaN</td>\n",
              "      <td>jnardino</td>\n",
              "      <td>NaN</td>\n",
              "      <td>0</td>\n",
              "      <td>@VirginAmerica plus you've added commercials t...</td>\n",
              "      <td>NaN</td>\n",
              "      <td>2015-02-24 11:15:59 -0800</td>\n",
              "      <td>NaN</td>\n",
              "      <td>Pacific Time (US &amp; Canada)</td>\n",
              "    </tr>\n",
              "    <tr>\n",
              "      <th>2</th>\n",
              "      <td>570301083672813571</td>\n",
              "      <td>neutral</td>\n",
              "      <td>0.6837</td>\n",
              "      <td>NaN</td>\n",
              "      <td>NaN</td>\n",
              "      <td>Virgin America</td>\n",
              "      <td>NaN</td>\n",
              "      <td>yvonnalynn</td>\n",
              "      <td>NaN</td>\n",
              "      <td>0</td>\n",
              "      <td>@VirginAmerica I didn't today... Must mean I n...</td>\n",
              "      <td>NaN</td>\n",
              "      <td>2015-02-24 11:15:48 -0800</td>\n",
              "      <td>Lets Play</td>\n",
              "      <td>Central Time (US &amp; Canada)</td>\n",
              "    </tr>\n",
              "    <tr>\n",
              "      <th>3</th>\n",
              "      <td>570301031407624196</td>\n",
              "      <td>negative</td>\n",
              "      <td>1.0000</td>\n",
              "      <td>Bad Flight</td>\n",
              "      <td>0.7033</td>\n",
              "      <td>Virgin America</td>\n",
              "      <td>NaN</td>\n",
              "      <td>jnardino</td>\n",
              "      <td>NaN</td>\n",
              "      <td>0</td>\n",
              "      <td>@VirginAmerica it's really aggressive to blast...</td>\n",
              "      <td>NaN</td>\n",
              "      <td>2015-02-24 11:15:36 -0800</td>\n",
              "      <td>NaN</td>\n",
              "      <td>Pacific Time (US &amp; Canada)</td>\n",
              "    </tr>\n",
              "    <tr>\n",
              "      <th>4</th>\n",
              "      <td>570300817074462722</td>\n",
              "      <td>negative</td>\n",
              "      <td>1.0000</td>\n",
              "      <td>Can't Tell</td>\n",
              "      <td>1.0000</td>\n",
              "      <td>Virgin America</td>\n",
              "      <td>NaN</td>\n",
              "      <td>jnardino</td>\n",
              "      <td>NaN</td>\n",
              "      <td>0</td>\n",
              "      <td>@VirginAmerica and it's a really big bad thing...</td>\n",
              "      <td>NaN</td>\n",
              "      <td>2015-02-24 11:14:45 -0800</td>\n",
              "      <td>NaN</td>\n",
              "      <td>Pacific Time (US &amp; Canada)</td>\n",
              "    </tr>\n",
              "    <tr>\n",
              "      <th>...</th>\n",
              "      <td>...</td>\n",
              "      <td>...</td>\n",
              "      <td>...</td>\n",
              "      <td>...</td>\n",
              "      <td>...</td>\n",
              "      <td>...</td>\n",
              "      <td>...</td>\n",
              "      <td>...</td>\n",
              "      <td>...</td>\n",
              "      <td>...</td>\n",
              "      <td>...</td>\n",
              "      <td>...</td>\n",
              "      <td>...</td>\n",
              "      <td>...</td>\n",
              "      <td>...</td>\n",
              "    </tr>\n",
              "    <tr>\n",
              "      <th>14635</th>\n",
              "      <td>569587686496825344</td>\n",
              "      <td>positive</td>\n",
              "      <td>0.3487</td>\n",
              "      <td>NaN</td>\n",
              "      <td>0.0000</td>\n",
              "      <td>American</td>\n",
              "      <td>NaN</td>\n",
              "      <td>KristenReenders</td>\n",
              "      <td>NaN</td>\n",
              "      <td>0</td>\n",
              "      <td>@AmericanAir thank you we got on a different f...</td>\n",
              "      <td>NaN</td>\n",
              "      <td>2015-02-22 12:01:01 -0800</td>\n",
              "      <td>NaN</td>\n",
              "      <td>NaN</td>\n",
              "    </tr>\n",
              "    <tr>\n",
              "      <th>14636</th>\n",
              "      <td>569587371693355008</td>\n",
              "      <td>negative</td>\n",
              "      <td>1.0000</td>\n",
              "      <td>Customer Service Issue</td>\n",
              "      <td>1.0000</td>\n",
              "      <td>American</td>\n",
              "      <td>NaN</td>\n",
              "      <td>itsropes</td>\n",
              "      <td>NaN</td>\n",
              "      <td>0</td>\n",
              "      <td>@AmericanAir leaving over 20 minutes Late Flig...</td>\n",
              "      <td>NaN</td>\n",
              "      <td>2015-02-22 11:59:46 -0800</td>\n",
              "      <td>Texas</td>\n",
              "      <td>NaN</td>\n",
              "    </tr>\n",
              "    <tr>\n",
              "      <th>14637</th>\n",
              "      <td>569587242672398336</td>\n",
              "      <td>neutral</td>\n",
              "      <td>1.0000</td>\n",
              "      <td>NaN</td>\n",
              "      <td>NaN</td>\n",
              "      <td>American</td>\n",
              "      <td>NaN</td>\n",
              "      <td>sanyabun</td>\n",
              "      <td>NaN</td>\n",
              "      <td>0</td>\n",
              "      <td>@AmericanAir Please bring American Airlines to...</td>\n",
              "      <td>NaN</td>\n",
              "      <td>2015-02-22 11:59:15 -0800</td>\n",
              "      <td>Nigeria,lagos</td>\n",
              "      <td>NaN</td>\n",
              "    </tr>\n",
              "    <tr>\n",
              "      <th>14638</th>\n",
              "      <td>569587188687634433</td>\n",
              "      <td>negative</td>\n",
              "      <td>1.0000</td>\n",
              "      <td>Customer Service Issue</td>\n",
              "      <td>0.6659</td>\n",
              "      <td>American</td>\n",
              "      <td>NaN</td>\n",
              "      <td>SraJackson</td>\n",
              "      <td>NaN</td>\n",
              "      <td>0</td>\n",
              "      <td>@AmericanAir you have my money, you change my ...</td>\n",
              "      <td>NaN</td>\n",
              "      <td>2015-02-22 11:59:02 -0800</td>\n",
              "      <td>New Jersey</td>\n",
              "      <td>Eastern Time (US &amp; Canada)</td>\n",
              "    </tr>\n",
              "    <tr>\n",
              "      <th>14639</th>\n",
              "      <td>569587140490866689</td>\n",
              "      <td>neutral</td>\n",
              "      <td>0.6771</td>\n",
              "      <td>NaN</td>\n",
              "      <td>0.0000</td>\n",
              "      <td>American</td>\n",
              "      <td>NaN</td>\n",
              "      <td>daviddtwu</td>\n",
              "      <td>NaN</td>\n",
              "      <td>0</td>\n",
              "      <td>@AmericanAir we have 8 ppl so we need 2 know h...</td>\n",
              "      <td>NaN</td>\n",
              "      <td>2015-02-22 11:58:51 -0800</td>\n",
              "      <td>dallas, TX</td>\n",
              "      <td>NaN</td>\n",
              "    </tr>\n",
              "  </tbody>\n",
              "</table>\n",
              "<p>14640 rows × 15 columns</p>\n",
              "</div>"
            ],
            "text/plain": [
              "                 tweet_id  ...               user_timezone\n",
              "0      570306133677760513  ...  Eastern Time (US & Canada)\n",
              "1      570301130888122368  ...  Pacific Time (US & Canada)\n",
              "2      570301083672813571  ...  Central Time (US & Canada)\n",
              "3      570301031407624196  ...  Pacific Time (US & Canada)\n",
              "4      570300817074462722  ...  Pacific Time (US & Canada)\n",
              "...                   ...  ...                         ...\n",
              "14635  569587686496825344  ...                         NaN\n",
              "14636  569587371693355008  ...                         NaN\n",
              "14637  569587242672398336  ...                         NaN\n",
              "14638  569587188687634433  ...  Eastern Time (US & Canada)\n",
              "14639  569587140490866689  ...                         NaN\n",
              "\n",
              "[14640 rows x 15 columns]"
            ]
          },
          "metadata": {
            "tags": []
          },
          "execution_count": 9
        }
      ]
    },
    {
      "cell_type": "code",
      "metadata": {
        "colab": {
          "base_uri": "https://localhost:8080/",
          "height": 402
        },
        "id": "n41GrDweqIuf",
        "outputId": "371da13d-862a-4348-ef32-d32bdbfdd690"
      },
      "source": [
        "df=tweets_data.iloc[:,[10,1,12]]  \n",
        "\n",
        "df.columns = ['text', 'sentiment','datetime'] \n",
        "data= df\n",
        "data"
      ],
      "execution_count": null,
      "outputs": [
        {
          "output_type": "execute_result",
          "data": {
            "text/html": [
              "<div>\n",
              "<style scoped>\n",
              "    .dataframe tbody tr th:only-of-type {\n",
              "        vertical-align: middle;\n",
              "    }\n",
              "\n",
              "    .dataframe tbody tr th {\n",
              "        vertical-align: top;\n",
              "    }\n",
              "\n",
              "    .dataframe thead th {\n",
              "        text-align: right;\n",
              "    }\n",
              "</style>\n",
              "<table border=\"1\" class=\"dataframe\">\n",
              "  <thead>\n",
              "    <tr style=\"text-align: right;\">\n",
              "      <th></th>\n",
              "      <th>text</th>\n",
              "      <th>sentiment</th>\n",
              "      <th>datetime</th>\n",
              "    </tr>\n",
              "  </thead>\n",
              "  <tbody>\n",
              "    <tr>\n",
              "      <th>0</th>\n",
              "      <td>@VirginAmerica What @dhepburn said.</td>\n",
              "      <td>neutral</td>\n",
              "      <td>2015-02-24 11:35:52 -0800</td>\n",
              "    </tr>\n",
              "    <tr>\n",
              "      <th>1</th>\n",
              "      <td>@VirginAmerica plus you've added commercials t...</td>\n",
              "      <td>positive</td>\n",
              "      <td>2015-02-24 11:15:59 -0800</td>\n",
              "    </tr>\n",
              "    <tr>\n",
              "      <th>2</th>\n",
              "      <td>@VirginAmerica I didn't today... Must mean I n...</td>\n",
              "      <td>neutral</td>\n",
              "      <td>2015-02-24 11:15:48 -0800</td>\n",
              "    </tr>\n",
              "    <tr>\n",
              "      <th>3</th>\n",
              "      <td>@VirginAmerica it's really aggressive to blast...</td>\n",
              "      <td>negative</td>\n",
              "      <td>2015-02-24 11:15:36 -0800</td>\n",
              "    </tr>\n",
              "    <tr>\n",
              "      <th>4</th>\n",
              "      <td>@VirginAmerica and it's a really big bad thing...</td>\n",
              "      <td>negative</td>\n",
              "      <td>2015-02-24 11:14:45 -0800</td>\n",
              "    </tr>\n",
              "    <tr>\n",
              "      <th>...</th>\n",
              "      <td>...</td>\n",
              "      <td>...</td>\n",
              "      <td>...</td>\n",
              "    </tr>\n",
              "    <tr>\n",
              "      <th>14635</th>\n",
              "      <td>@AmericanAir thank you we got on a different f...</td>\n",
              "      <td>positive</td>\n",
              "      <td>2015-02-22 12:01:01 -0800</td>\n",
              "    </tr>\n",
              "    <tr>\n",
              "      <th>14636</th>\n",
              "      <td>@AmericanAir leaving over 20 minutes Late Flig...</td>\n",
              "      <td>negative</td>\n",
              "      <td>2015-02-22 11:59:46 -0800</td>\n",
              "    </tr>\n",
              "    <tr>\n",
              "      <th>14637</th>\n",
              "      <td>@AmericanAir Please bring American Airlines to...</td>\n",
              "      <td>neutral</td>\n",
              "      <td>2015-02-22 11:59:15 -0800</td>\n",
              "    </tr>\n",
              "    <tr>\n",
              "      <th>14638</th>\n",
              "      <td>@AmericanAir you have my money, you change my ...</td>\n",
              "      <td>negative</td>\n",
              "      <td>2015-02-22 11:59:02 -0800</td>\n",
              "    </tr>\n",
              "    <tr>\n",
              "      <th>14639</th>\n",
              "      <td>@AmericanAir we have 8 ppl so we need 2 know h...</td>\n",
              "      <td>neutral</td>\n",
              "      <td>2015-02-22 11:58:51 -0800</td>\n",
              "    </tr>\n",
              "  </tbody>\n",
              "</table>\n",
              "<p>14640 rows × 3 columns</p>\n",
              "</div>"
            ],
            "text/plain": [
              "                                                    text  ...                   datetime\n",
              "0                    @VirginAmerica What @dhepburn said.  ...  2015-02-24 11:35:52 -0800\n",
              "1      @VirginAmerica plus you've added commercials t...  ...  2015-02-24 11:15:59 -0800\n",
              "2      @VirginAmerica I didn't today... Must mean I n...  ...  2015-02-24 11:15:48 -0800\n",
              "3      @VirginAmerica it's really aggressive to blast...  ...  2015-02-24 11:15:36 -0800\n",
              "4      @VirginAmerica and it's a really big bad thing...  ...  2015-02-24 11:14:45 -0800\n",
              "...                                                  ...  ...                        ...\n",
              "14635  @AmericanAir thank you we got on a different f...  ...  2015-02-22 12:01:01 -0800\n",
              "14636  @AmericanAir leaving over 20 minutes Late Flig...  ...  2015-02-22 11:59:46 -0800\n",
              "14637  @AmericanAir Please bring American Airlines to...  ...  2015-02-22 11:59:15 -0800\n",
              "14638  @AmericanAir you have my money, you change my ...  ...  2015-02-22 11:59:02 -0800\n",
              "14639  @AmericanAir we have 8 ppl so we need 2 know h...  ...  2015-02-22 11:58:51 -0800\n",
              "\n",
              "[14640 rows x 3 columns]"
            ]
          },
          "metadata": {
            "tags": []
          },
          "execution_count": 10
        }
      ]
    },
    {
      "cell_type": "code",
      "metadata": {
        "colab": {
          "base_uri": "https://localhost:8080/",
          "height": 435
        },
        "id": "rvs_m-YoqK9G",
        "outputId": "9dfb368c-396b-4087-8ed6-8b1f8d9fce27"
      },
      "source": [
        "import nltk\n",
        "nltk.download('punkt')\n",
        "data['text']=data['text'].str.replace(\"(@[A-Za-z0-9]+)|([^0-9A-Za-z \\t])|(\\w+:\\/\\/\\S+)|([0-9])\",\"\")\n",
        "data['text']=data['text'].apply(nltk.word_tokenize)\n",
        "data"
      ],
      "execution_count": null,
      "outputs": [
        {
          "output_type": "stream",
          "text": [
            "[nltk_data] Downloading package punkt to /root/nltk_data...\n",
            "[nltk_data]   Package punkt is already up-to-date!\n"
          ],
          "name": "stdout"
        },
        {
          "output_type": "execute_result",
          "data": {
            "text/html": [
              "<div>\n",
              "<style scoped>\n",
              "    .dataframe tbody tr th:only-of-type {\n",
              "        vertical-align: middle;\n",
              "    }\n",
              "\n",
              "    .dataframe tbody tr th {\n",
              "        vertical-align: top;\n",
              "    }\n",
              "\n",
              "    .dataframe thead th {\n",
              "        text-align: right;\n",
              "    }\n",
              "</style>\n",
              "<table border=\"1\" class=\"dataframe\">\n",
              "  <thead>\n",
              "    <tr style=\"text-align: right;\">\n",
              "      <th></th>\n",
              "      <th>text</th>\n",
              "      <th>sentiment</th>\n",
              "      <th>datetime</th>\n",
              "    </tr>\n",
              "  </thead>\n",
              "  <tbody>\n",
              "    <tr>\n",
              "      <th>0</th>\n",
              "      <td>[What, said]</td>\n",
              "      <td>neutral</td>\n",
              "      <td>2015-02-24 11:35:52 -0800</td>\n",
              "    </tr>\n",
              "    <tr>\n",
              "      <th>1</th>\n",
              "      <td>[plus, youve, added, commercials, to, the, exp...</td>\n",
              "      <td>positive</td>\n",
              "      <td>2015-02-24 11:15:59 -0800</td>\n",
              "    </tr>\n",
              "    <tr>\n",
              "      <th>2</th>\n",
              "      <td>[I, didnt, today, Must, mean, I, need, to, tak...</td>\n",
              "      <td>neutral</td>\n",
              "      <td>2015-02-24 11:15:48 -0800</td>\n",
              "    </tr>\n",
              "    <tr>\n",
              "      <th>3</th>\n",
              "      <td>[its, really, aggressive, to, blast, obnoxious...</td>\n",
              "      <td>negative</td>\n",
              "      <td>2015-02-24 11:15:36 -0800</td>\n",
              "    </tr>\n",
              "    <tr>\n",
              "      <th>4</th>\n",
              "      <td>[and, its, a, really, big, bad, thing, about, it]</td>\n",
              "      <td>negative</td>\n",
              "      <td>2015-02-24 11:14:45 -0800</td>\n",
              "    </tr>\n",
              "    <tr>\n",
              "      <th>...</th>\n",
              "      <td>...</td>\n",
              "      <td>...</td>\n",
              "      <td>...</td>\n",
              "    </tr>\n",
              "    <tr>\n",
              "      <th>14635</th>\n",
              "      <td>[thank, you, we, got, on, a, different, flight...</td>\n",
              "      <td>positive</td>\n",
              "      <td>2015-02-22 12:01:01 -0800</td>\n",
              "    </tr>\n",
              "    <tr>\n",
              "      <th>14636</th>\n",
              "      <td>[leaving, over, minutes, Late, Flight, No, war...</td>\n",
              "      <td>negative</td>\n",
              "      <td>2015-02-22 11:59:46 -0800</td>\n",
              "    </tr>\n",
              "    <tr>\n",
              "      <th>14637</th>\n",
              "      <td>[Please, bring, American, Airlines, to, BlackB...</td>\n",
              "      <td>neutral</td>\n",
              "      <td>2015-02-22 11:59:15 -0800</td>\n",
              "    </tr>\n",
              "    <tr>\n",
              "      <th>14638</th>\n",
              "      <td>[you, have, my, money, you, change, my, flight...</td>\n",
              "      <td>negative</td>\n",
              "      <td>2015-02-22 11:59:02 -0800</td>\n",
              "    </tr>\n",
              "    <tr>\n",
              "      <th>14639</th>\n",
              "      <td>[we, have, ppl, so, we, need, know, how, many,...</td>\n",
              "      <td>neutral</td>\n",
              "      <td>2015-02-22 11:58:51 -0800</td>\n",
              "    </tr>\n",
              "  </tbody>\n",
              "</table>\n",
              "<p>14640 rows × 3 columns</p>\n",
              "</div>"
            ],
            "text/plain": [
              "                                                    text  ...                   datetime\n",
              "0                                           [What, said]  ...  2015-02-24 11:35:52 -0800\n",
              "1      [plus, youve, added, commercials, to, the, exp...  ...  2015-02-24 11:15:59 -0800\n",
              "2      [I, didnt, today, Must, mean, I, need, to, tak...  ...  2015-02-24 11:15:48 -0800\n",
              "3      [its, really, aggressive, to, blast, obnoxious...  ...  2015-02-24 11:15:36 -0800\n",
              "4      [and, its, a, really, big, bad, thing, about, it]  ...  2015-02-24 11:14:45 -0800\n",
              "...                                                  ...  ...                        ...\n",
              "14635  [thank, you, we, got, on, a, different, flight...  ...  2015-02-22 12:01:01 -0800\n",
              "14636  [leaving, over, minutes, Late, Flight, No, war...  ...  2015-02-22 11:59:46 -0800\n",
              "14637  [Please, bring, American, Airlines, to, BlackB...  ...  2015-02-22 11:59:15 -0800\n",
              "14638  [you, have, my, money, you, change, my, flight...  ...  2015-02-22 11:59:02 -0800\n",
              "14639  [we, have, ppl, so, we, need, know, how, many,...  ...  2015-02-22 11:58:51 -0800\n",
              "\n",
              "[14640 rows x 3 columns]"
            ]
          },
          "metadata": {
            "tags": []
          },
          "execution_count": 11
        }
      ]
    },
    {
      "cell_type": "code",
      "metadata": {
        "colab": {
          "base_uri": "https://localhost:8080/",
          "height": 402
        },
        "id": "eBNRjwpbqPso",
        "outputId": "59d7f24c-4d36-4975-dedd-3c69c2979b09"
      },
      "source": [
        "stemmer = SnowballStemmer('english')\n",
        "data['text']=data['text'].apply(lambda x: [stemmer.stem(y) for y in x])\n",
        "data"
      ],
      "execution_count": null,
      "outputs": [
        {
          "output_type": "execute_result",
          "data": {
            "text/html": [
              "<div>\n",
              "<style scoped>\n",
              "    .dataframe tbody tr th:only-of-type {\n",
              "        vertical-align: middle;\n",
              "    }\n",
              "\n",
              "    .dataframe tbody tr th {\n",
              "        vertical-align: top;\n",
              "    }\n",
              "\n",
              "    .dataframe thead th {\n",
              "        text-align: right;\n",
              "    }\n",
              "</style>\n",
              "<table border=\"1\" class=\"dataframe\">\n",
              "  <thead>\n",
              "    <tr style=\"text-align: right;\">\n",
              "      <th></th>\n",
              "      <th>text</th>\n",
              "      <th>sentiment</th>\n",
              "      <th>datetime</th>\n",
              "    </tr>\n",
              "  </thead>\n",
              "  <tbody>\n",
              "    <tr>\n",
              "      <th>0</th>\n",
              "      <td>[what, said]</td>\n",
              "      <td>neutral</td>\n",
              "      <td>2015-02-24 11:35:52 -0800</td>\n",
              "    </tr>\n",
              "    <tr>\n",
              "      <th>1</th>\n",
              "      <td>[plus, youv, ad, commerci, to, the, experi, ta...</td>\n",
              "      <td>positive</td>\n",
              "      <td>2015-02-24 11:15:59 -0800</td>\n",
              "    </tr>\n",
              "    <tr>\n",
              "      <th>2</th>\n",
              "      <td>[i, didnt, today, must, mean, i, need, to, tak...</td>\n",
              "      <td>neutral</td>\n",
              "      <td>2015-02-24 11:15:48 -0800</td>\n",
              "    </tr>\n",
              "    <tr>\n",
              "      <th>3</th>\n",
              "      <td>[it, realli, aggress, to, blast, obnoxi, enter...</td>\n",
              "      <td>negative</td>\n",
              "      <td>2015-02-24 11:15:36 -0800</td>\n",
              "    </tr>\n",
              "    <tr>\n",
              "      <th>4</th>\n",
              "      <td>[and, it, a, realli, big, bad, thing, about, it]</td>\n",
              "      <td>negative</td>\n",
              "      <td>2015-02-24 11:14:45 -0800</td>\n",
              "    </tr>\n",
              "    <tr>\n",
              "      <th>...</th>\n",
              "      <td>...</td>\n",
              "      <td>...</td>\n",
              "      <td>...</td>\n",
              "    </tr>\n",
              "    <tr>\n",
              "      <th>14635</th>\n",
              "      <td>[thank, you, we, got, on, a, differ, flight, t...</td>\n",
              "      <td>positive</td>\n",
              "      <td>2015-02-22 12:01:01 -0800</td>\n",
              "    </tr>\n",
              "    <tr>\n",
              "      <th>14636</th>\n",
              "      <td>[leav, over, minut, late, flight, no, warn, or...</td>\n",
              "      <td>negative</td>\n",
              "      <td>2015-02-22 11:59:46 -0800</td>\n",
              "    </tr>\n",
              "    <tr>\n",
              "      <th>14637</th>\n",
              "      <td>[pleas, bring, american, airlin, to, blackberri]</td>\n",
              "      <td>neutral</td>\n",
              "      <td>2015-02-22 11:59:15 -0800</td>\n",
              "    </tr>\n",
              "    <tr>\n",
              "      <th>14638</th>\n",
              "      <td>[you, have, my, money, you, chang, my, flight,...</td>\n",
              "      <td>negative</td>\n",
              "      <td>2015-02-22 11:59:02 -0800</td>\n",
              "    </tr>\n",
              "    <tr>\n",
              "      <th>14639</th>\n",
              "      <td>[we, have, ppl, so, we, need, know, how, mani,...</td>\n",
              "      <td>neutral</td>\n",
              "      <td>2015-02-22 11:58:51 -0800</td>\n",
              "    </tr>\n",
              "  </tbody>\n",
              "</table>\n",
              "<p>14640 rows × 3 columns</p>\n",
              "</div>"
            ],
            "text/plain": [
              "                                                    text  ...                   datetime\n",
              "0                                           [what, said]  ...  2015-02-24 11:35:52 -0800\n",
              "1      [plus, youv, ad, commerci, to, the, experi, ta...  ...  2015-02-24 11:15:59 -0800\n",
              "2      [i, didnt, today, must, mean, i, need, to, tak...  ...  2015-02-24 11:15:48 -0800\n",
              "3      [it, realli, aggress, to, blast, obnoxi, enter...  ...  2015-02-24 11:15:36 -0800\n",
              "4       [and, it, a, realli, big, bad, thing, about, it]  ...  2015-02-24 11:14:45 -0800\n",
              "...                                                  ...  ...                        ...\n",
              "14635  [thank, you, we, got, on, a, differ, flight, t...  ...  2015-02-22 12:01:01 -0800\n",
              "14636  [leav, over, minut, late, flight, no, warn, or...  ...  2015-02-22 11:59:46 -0800\n",
              "14637   [pleas, bring, american, airlin, to, blackberri]  ...  2015-02-22 11:59:15 -0800\n",
              "14638  [you, have, my, money, you, chang, my, flight,...  ...  2015-02-22 11:59:02 -0800\n",
              "14639  [we, have, ppl, so, we, need, know, how, mani,...  ...  2015-02-22 11:58:51 -0800\n",
              "\n",
              "[14640 rows x 3 columns]"
            ]
          },
          "metadata": {
            "tags": []
          },
          "execution_count": 12
        }
      ]
    },
    {
      "cell_type": "code",
      "metadata": {
        "colab": {
          "base_uri": "https://localhost:8080/",
          "height": 435
        },
        "id": "JjpSpshEqS77",
        "outputId": "a18c34db-c34d-43c6-9ad1-67b51cd9eec3"
      },
      "source": [
        "import nltk\n",
        "nltk.download('stopwords')\n",
        "stopwords = nltk.corpus.stopwords.words('english')\n",
        "data['text']=data['text'].apply(lambda x: [y for y in x if y not in stopwords])\n",
        "data"
      ],
      "execution_count": null,
      "outputs": [
        {
          "output_type": "stream",
          "text": [
            "[nltk_data] Downloading package stopwords to /root/nltk_data...\n",
            "[nltk_data]   Unzipping corpora/stopwords.zip.\n"
          ],
          "name": "stdout"
        },
        {
          "output_type": "execute_result",
          "data": {
            "text/html": [
              "<div>\n",
              "<style scoped>\n",
              "    .dataframe tbody tr th:only-of-type {\n",
              "        vertical-align: middle;\n",
              "    }\n",
              "\n",
              "    .dataframe tbody tr th {\n",
              "        vertical-align: top;\n",
              "    }\n",
              "\n",
              "    .dataframe thead th {\n",
              "        text-align: right;\n",
              "    }\n",
              "</style>\n",
              "<table border=\"1\" class=\"dataframe\">\n",
              "  <thead>\n",
              "    <tr style=\"text-align: right;\">\n",
              "      <th></th>\n",
              "      <th>text</th>\n",
              "      <th>sentiment</th>\n",
              "      <th>datetime</th>\n",
              "    </tr>\n",
              "  </thead>\n",
              "  <tbody>\n",
              "    <tr>\n",
              "      <th>0</th>\n",
              "      <td>[said]</td>\n",
              "      <td>neutral</td>\n",
              "      <td>2015-02-24 11:35:52 -0800</td>\n",
              "    </tr>\n",
              "    <tr>\n",
              "      <th>1</th>\n",
              "      <td>[plus, youv, ad, commerci, experi, tacki]</td>\n",
              "      <td>positive</td>\n",
              "      <td>2015-02-24 11:15:59 -0800</td>\n",
              "    </tr>\n",
              "    <tr>\n",
              "      <th>2</th>\n",
              "      <td>[didnt, today, must, mean, need, take, anoth, ...</td>\n",
              "      <td>neutral</td>\n",
              "      <td>2015-02-24 11:15:48 -0800</td>\n",
              "    </tr>\n",
              "    <tr>\n",
              "      <th>3</th>\n",
              "      <td>[realli, aggress, blast, obnoxi, entertain, gu...</td>\n",
              "      <td>negative</td>\n",
              "      <td>2015-02-24 11:15:36 -0800</td>\n",
              "    </tr>\n",
              "    <tr>\n",
              "      <th>4</th>\n",
              "      <td>[realli, big, bad, thing]</td>\n",
              "      <td>negative</td>\n",
              "      <td>2015-02-24 11:14:45 -0800</td>\n",
              "    </tr>\n",
              "    <tr>\n",
              "      <th>...</th>\n",
              "      <td>...</td>\n",
              "      <td>...</td>\n",
              "      <td>...</td>\n",
              "    </tr>\n",
              "    <tr>\n",
              "      <th>14635</th>\n",
              "      <td>[thank, got, differ, flight, chicago]</td>\n",
              "      <td>positive</td>\n",
              "      <td>2015-02-22 12:01:01 -0800</td>\n",
              "    </tr>\n",
              "    <tr>\n",
              "      <th>14636</th>\n",
              "      <td>[leav, minut, late, flight, warn, communic, mi...</td>\n",
              "      <td>negative</td>\n",
              "      <td>2015-02-22 11:59:46 -0800</td>\n",
              "    </tr>\n",
              "    <tr>\n",
              "      <th>14637</th>\n",
              "      <td>[pleas, bring, american, airlin, blackberri]</td>\n",
              "      <td>neutral</td>\n",
              "      <td>2015-02-22 11:59:15 -0800</td>\n",
              "    </tr>\n",
              "    <tr>\n",
              "      <th>14638</th>\n",
              "      <td>[money, chang, flight, dont, answer, phone, an...</td>\n",
              "      <td>negative</td>\n",
              "      <td>2015-02-22 11:59:02 -0800</td>\n",
              "    </tr>\n",
              "    <tr>\n",
              "      <th>14639</th>\n",
              "      <td>[ppl, need, know, mani, seat, next, flight, pl...</td>\n",
              "      <td>neutral</td>\n",
              "      <td>2015-02-22 11:58:51 -0800</td>\n",
              "    </tr>\n",
              "  </tbody>\n",
              "</table>\n",
              "<p>14640 rows × 3 columns</p>\n",
              "</div>"
            ],
            "text/plain": [
              "                                                    text  ...                   datetime\n",
              "0                                                 [said]  ...  2015-02-24 11:35:52 -0800\n",
              "1              [plus, youv, ad, commerci, experi, tacki]  ...  2015-02-24 11:15:59 -0800\n",
              "2      [didnt, today, must, mean, need, take, anoth, ...  ...  2015-02-24 11:15:48 -0800\n",
              "3      [realli, aggress, blast, obnoxi, entertain, gu...  ...  2015-02-24 11:15:36 -0800\n",
              "4                              [realli, big, bad, thing]  ...  2015-02-24 11:14:45 -0800\n",
              "...                                                  ...  ...                        ...\n",
              "14635              [thank, got, differ, flight, chicago]  ...  2015-02-22 12:01:01 -0800\n",
              "14636  [leav, minut, late, flight, warn, communic, mi...  ...  2015-02-22 11:59:46 -0800\n",
              "14637       [pleas, bring, american, airlin, blackberri]  ...  2015-02-22 11:59:15 -0800\n",
              "14638  [money, chang, flight, dont, answer, phone, an...  ...  2015-02-22 11:59:02 -0800\n",
              "14639  [ppl, need, know, mani, seat, next, flight, pl...  ...  2015-02-22 11:58:51 -0800\n",
              "\n",
              "[14640 rows x 3 columns]"
            ]
          },
          "metadata": {
            "tags": []
          },
          "execution_count": 13
        }
      ]
    },
    {
      "cell_type": "code",
      "metadata": {
        "colab": {
          "base_uri": "https://localhost:8080/",
          "height": 402
        },
        "id": "ZDsUP8RQqWa8",
        "outputId": "a100761c-fa0a-4eaf-c86f-585f9bdc9408"
      },
      "source": [
        "data['text'] = data['text'].str.join(\" \")\n",
        "data"
      ],
      "execution_count": null,
      "outputs": [
        {
          "output_type": "execute_result",
          "data": {
            "text/html": [
              "<div>\n",
              "<style scoped>\n",
              "    .dataframe tbody tr th:only-of-type {\n",
              "        vertical-align: middle;\n",
              "    }\n",
              "\n",
              "    .dataframe tbody tr th {\n",
              "        vertical-align: top;\n",
              "    }\n",
              "\n",
              "    .dataframe thead th {\n",
              "        text-align: right;\n",
              "    }\n",
              "</style>\n",
              "<table border=\"1\" class=\"dataframe\">\n",
              "  <thead>\n",
              "    <tr style=\"text-align: right;\">\n",
              "      <th></th>\n",
              "      <th>text</th>\n",
              "      <th>sentiment</th>\n",
              "      <th>datetime</th>\n",
              "    </tr>\n",
              "  </thead>\n",
              "  <tbody>\n",
              "    <tr>\n",
              "      <th>0</th>\n",
              "      <td>said</td>\n",
              "      <td>neutral</td>\n",
              "      <td>2015-02-24 11:35:52 -0800</td>\n",
              "    </tr>\n",
              "    <tr>\n",
              "      <th>1</th>\n",
              "      <td>plus youv ad commerci experi tacki</td>\n",
              "      <td>positive</td>\n",
              "      <td>2015-02-24 11:15:59 -0800</td>\n",
              "    </tr>\n",
              "    <tr>\n",
              "      <th>2</th>\n",
              "      <td>didnt today must mean need take anoth trip</td>\n",
              "      <td>neutral</td>\n",
              "      <td>2015-02-24 11:15:48 -0800</td>\n",
              "    </tr>\n",
              "    <tr>\n",
              "      <th>3</th>\n",
              "      <td>realli aggress blast obnoxi entertain guest fa...</td>\n",
              "      <td>negative</td>\n",
              "      <td>2015-02-24 11:15:36 -0800</td>\n",
              "    </tr>\n",
              "    <tr>\n",
              "      <th>4</th>\n",
              "      <td>realli big bad thing</td>\n",
              "      <td>negative</td>\n",
              "      <td>2015-02-24 11:14:45 -0800</td>\n",
              "    </tr>\n",
              "    <tr>\n",
              "      <th>...</th>\n",
              "      <td>...</td>\n",
              "      <td>...</td>\n",
              "      <td>...</td>\n",
              "    </tr>\n",
              "    <tr>\n",
              "      <th>14635</th>\n",
              "      <td>thank got differ flight chicago</td>\n",
              "      <td>positive</td>\n",
              "      <td>2015-02-22 12:01:01 -0800</td>\n",
              "    </tr>\n",
              "    <tr>\n",
              "      <th>14636</th>\n",
              "      <td>leav minut late flight warn communic minut lat...</td>\n",
              "      <td>negative</td>\n",
              "      <td>2015-02-22 11:59:46 -0800</td>\n",
              "    </tr>\n",
              "    <tr>\n",
              "      <th>14637</th>\n",
              "      <td>pleas bring american airlin blackberri</td>\n",
              "      <td>neutral</td>\n",
              "      <td>2015-02-22 11:59:15 -0800</td>\n",
              "    </tr>\n",
              "    <tr>\n",
              "      <th>14638</th>\n",
              "      <td>money chang flight dont answer phone ani sugge...</td>\n",
              "      <td>negative</td>\n",
              "      <td>2015-02-22 11:59:02 -0800</td>\n",
              "    </tr>\n",
              "    <tr>\n",
              "      <th>14639</th>\n",
              "      <td>ppl need know mani seat next flight plz put us...</td>\n",
              "      <td>neutral</td>\n",
              "      <td>2015-02-22 11:58:51 -0800</td>\n",
              "    </tr>\n",
              "  </tbody>\n",
              "</table>\n",
              "<p>14640 rows × 3 columns</p>\n",
              "</div>"
            ],
            "text/plain": [
              "                                                    text  ...                   datetime\n",
              "0                                                   said  ...  2015-02-24 11:35:52 -0800\n",
              "1                     plus youv ad commerci experi tacki  ...  2015-02-24 11:15:59 -0800\n",
              "2             didnt today must mean need take anoth trip  ...  2015-02-24 11:15:48 -0800\n",
              "3      realli aggress blast obnoxi entertain guest fa...  ...  2015-02-24 11:15:36 -0800\n",
              "4                                   realli big bad thing  ...  2015-02-24 11:14:45 -0800\n",
              "...                                                  ...  ...                        ...\n",
              "14635                    thank got differ flight chicago  ...  2015-02-22 12:01:01 -0800\n",
              "14636  leav minut late flight warn communic minut lat...  ...  2015-02-22 11:59:46 -0800\n",
              "14637             pleas bring american airlin blackberri  ...  2015-02-22 11:59:15 -0800\n",
              "14638  money chang flight dont answer phone ani sugge...  ...  2015-02-22 11:59:02 -0800\n",
              "14639  ppl need know mani seat next flight plz put us...  ...  2015-02-22 11:58:51 -0800\n",
              "\n",
              "[14640 rows x 3 columns]"
            ]
          },
          "metadata": {
            "tags": []
          },
          "execution_count": 14
        }
      ]
    },
    {
      "cell_type": "code",
      "metadata": {
        "colab": {
          "base_uri": "https://localhost:8080/"
        },
        "id": "3Wpx-EXPqZZ7",
        "outputId": "b7abc06c-e936-420e-b286-a5b03fcc733f"
      },
      "source": [
        "print (\"data shape = \", data.shape)"
      ],
      "execution_count": null,
      "outputs": [
        {
          "output_type": "stream",
          "text": [
            "data shape =  (14640, 3)\n"
          ],
          "name": "stdout"
        }
      ]
    },
    {
      "cell_type": "code",
      "metadata": {
        "colab": {
          "base_uri": "https://localhost:8080/",
          "height": 402
        },
        "id": "OlwyPJsDqban",
        "outputId": "71515fb2-dfed-426d-c348-38e143fc39e5"
      },
      "source": [
        "sentiment = sorted(data['sentiment'].unique())\n",
        "sentiment_mapping = dict(zip(sentiment, range(0, len(sentiment) + 1)))\n",
        "data['sentiment']  = data['sentiment'].map(sentiment_mapping).astype(int)\n",
        "data"
      ],
      "execution_count": null,
      "outputs": [
        {
          "output_type": "execute_result",
          "data": {
            "text/html": [
              "<div>\n",
              "<style scoped>\n",
              "    .dataframe tbody tr th:only-of-type {\n",
              "        vertical-align: middle;\n",
              "    }\n",
              "\n",
              "    .dataframe tbody tr th {\n",
              "        vertical-align: top;\n",
              "    }\n",
              "\n",
              "    .dataframe thead th {\n",
              "        text-align: right;\n",
              "    }\n",
              "</style>\n",
              "<table border=\"1\" class=\"dataframe\">\n",
              "  <thead>\n",
              "    <tr style=\"text-align: right;\">\n",
              "      <th></th>\n",
              "      <th>text</th>\n",
              "      <th>sentiment</th>\n",
              "      <th>datetime</th>\n",
              "    </tr>\n",
              "  </thead>\n",
              "  <tbody>\n",
              "    <tr>\n",
              "      <th>0</th>\n",
              "      <td>said</td>\n",
              "      <td>1</td>\n",
              "      <td>2015-02-24 11:35:52 -0800</td>\n",
              "    </tr>\n",
              "    <tr>\n",
              "      <th>1</th>\n",
              "      <td>plus youv ad commerci experi tacki</td>\n",
              "      <td>2</td>\n",
              "      <td>2015-02-24 11:15:59 -0800</td>\n",
              "    </tr>\n",
              "    <tr>\n",
              "      <th>2</th>\n",
              "      <td>didnt today must mean need take anoth trip</td>\n",
              "      <td>1</td>\n",
              "      <td>2015-02-24 11:15:48 -0800</td>\n",
              "    </tr>\n",
              "    <tr>\n",
              "      <th>3</th>\n",
              "      <td>realli aggress blast obnoxi entertain guest fa...</td>\n",
              "      <td>0</td>\n",
              "      <td>2015-02-24 11:15:36 -0800</td>\n",
              "    </tr>\n",
              "    <tr>\n",
              "      <th>4</th>\n",
              "      <td>realli big bad thing</td>\n",
              "      <td>0</td>\n",
              "      <td>2015-02-24 11:14:45 -0800</td>\n",
              "    </tr>\n",
              "    <tr>\n",
              "      <th>...</th>\n",
              "      <td>...</td>\n",
              "      <td>...</td>\n",
              "      <td>...</td>\n",
              "    </tr>\n",
              "    <tr>\n",
              "      <th>14635</th>\n",
              "      <td>thank got differ flight chicago</td>\n",
              "      <td>2</td>\n",
              "      <td>2015-02-22 12:01:01 -0800</td>\n",
              "    </tr>\n",
              "    <tr>\n",
              "      <th>14636</th>\n",
              "      <td>leav minut late flight warn communic minut lat...</td>\n",
              "      <td>0</td>\n",
              "      <td>2015-02-22 11:59:46 -0800</td>\n",
              "    </tr>\n",
              "    <tr>\n",
              "      <th>14637</th>\n",
              "      <td>pleas bring american airlin blackberri</td>\n",
              "      <td>1</td>\n",
              "      <td>2015-02-22 11:59:15 -0800</td>\n",
              "    </tr>\n",
              "    <tr>\n",
              "      <th>14638</th>\n",
              "      <td>money chang flight dont answer phone ani sugge...</td>\n",
              "      <td>0</td>\n",
              "      <td>2015-02-22 11:59:02 -0800</td>\n",
              "    </tr>\n",
              "    <tr>\n",
              "      <th>14639</th>\n",
              "      <td>ppl need know mani seat next flight plz put us...</td>\n",
              "      <td>1</td>\n",
              "      <td>2015-02-22 11:58:51 -0800</td>\n",
              "    </tr>\n",
              "  </tbody>\n",
              "</table>\n",
              "<p>14640 rows × 3 columns</p>\n",
              "</div>"
            ],
            "text/plain": [
              "                                                    text  ...                   datetime\n",
              "0                                                   said  ...  2015-02-24 11:35:52 -0800\n",
              "1                     plus youv ad commerci experi tacki  ...  2015-02-24 11:15:59 -0800\n",
              "2             didnt today must mean need take anoth trip  ...  2015-02-24 11:15:48 -0800\n",
              "3      realli aggress blast obnoxi entertain guest fa...  ...  2015-02-24 11:15:36 -0800\n",
              "4                                   realli big bad thing  ...  2015-02-24 11:14:45 -0800\n",
              "...                                                  ...  ...                        ...\n",
              "14635                    thank got differ flight chicago  ...  2015-02-22 12:01:01 -0800\n",
              "14636  leav minut late flight warn communic minut lat...  ...  2015-02-22 11:59:46 -0800\n",
              "14637             pleas bring american airlin blackberri  ...  2015-02-22 11:59:15 -0800\n",
              "14638  money chang flight dont answer phone ani sugge...  ...  2015-02-22 11:59:02 -0800\n",
              "14639  ppl need know mani seat next flight plz put us...  ...  2015-02-22 11:58:51 -0800\n",
              "\n",
              "[14640 rows x 3 columns]"
            ]
          },
          "metadata": {
            "tags": []
          },
          "execution_count": 16
        }
      ]
    },
    {
      "cell_type": "code",
      "metadata": {
        "id": "JK7kSyRyqfgH"
      },
      "source": [
        "X = data['text']\n",
        "y = data['sentiment']"
      ],
      "execution_count": null,
      "outputs": []
    },
    {
      "cell_type": "code",
      "metadata": {
        "id": "betwM__Ftvr0"
      },
      "source": [
        "import os\n",
        "import pandas as pd\n",
        "import matplotlib.pyplot as plt\n",
        "import seaborn as sns\n",
        "import itertools\n",
        "import collections\n",
        "\n",
        "import tweepy as tw\n",
        "import nltk\n",
        "from nltk.corpus import stopwords\n",
        "import re\n",
        "import networkx\n",
        "from textblob import TextBlob"
      ],
      "execution_count": null,
      "outputs": []
    },
    {
      "cell_type": "code",
      "metadata": {
        "colab": {
          "base_uri": "https://localhost:8080/"
        },
        "id": "ZwSt2rO4qh18",
        "outputId": "372f4422-9bf9-43ff-f094-42ff032ad600"
      },
      "source": [
        "sentiment_objects = [TextBlob(tweets_data) for tweets_data in tweets_data['text']]\n",
        "\n",
        "sentiment_objects[0].polarity, sentiment_objects[0]"
      ],
      "execution_count": null,
      "outputs": [
        {
          "output_type": "execute_result",
          "data": {
            "text/plain": [
              "(0.0, TextBlob(\"@VirginAmerica What @dhepburn said.\"))"
            ]
          },
          "metadata": {
            "tags": []
          },
          "execution_count": 21
        }
      ]
    },
    {
      "cell_type": "code",
      "metadata": {
        "colab": {
          "base_uri": "https://localhost:8080/"
        },
        "id": "9_7gzvwWqlY9",
        "outputId": "636884f1-911b-43c1-d101-61c0fbff5e77"
      },
      "source": [
        "sentiment_values = [[tweets_data.sentiment.polarity, str(tweets_data)] for tweets_data in sentiment_objects]\n",
        "\n",
        "sentiment_values[0]"
      ],
      "execution_count": null,
      "outputs": [
        {
          "output_type": "execute_result",
          "data": {
            "text/plain": [
              "[0.0, '@VirginAmerica What @dhepburn said.']"
            ]
          },
          "metadata": {
            "tags": []
          },
          "execution_count": 22
        }
      ]
    },
    {
      "cell_type": "code",
      "metadata": {
        "colab": {
          "base_uri": "https://localhost:8080/",
          "height": 195
        },
        "id": "JG30OLhDqnIv",
        "outputId": "9bb60b60-8a25-4965-b73b-989ae5f25032"
      },
      "source": [
        "sentiment_df = pd.DataFrame(sentiment_values, columns=[\"polarity\", \"tweets\"])\n",
        "\n",
        "sentiment_df.head()"
      ],
      "execution_count": null,
      "outputs": [
        {
          "output_type": "execute_result",
          "data": {
            "text/html": [
              "<div>\n",
              "<style scoped>\n",
              "    .dataframe tbody tr th:only-of-type {\n",
              "        vertical-align: middle;\n",
              "    }\n",
              "\n",
              "    .dataframe tbody tr th {\n",
              "        vertical-align: top;\n",
              "    }\n",
              "\n",
              "    .dataframe thead th {\n",
              "        text-align: right;\n",
              "    }\n",
              "</style>\n",
              "<table border=\"1\" class=\"dataframe\">\n",
              "  <thead>\n",
              "    <tr style=\"text-align: right;\">\n",
              "      <th></th>\n",
              "      <th>polarity</th>\n",
              "      <th>tweets</th>\n",
              "    </tr>\n",
              "  </thead>\n",
              "  <tbody>\n",
              "    <tr>\n",
              "      <th>0</th>\n",
              "      <td>0.000000</td>\n",
              "      <td>@VirginAmerica What @dhepburn said.</td>\n",
              "    </tr>\n",
              "    <tr>\n",
              "      <th>1</th>\n",
              "      <td>0.000000</td>\n",
              "      <td>@VirginAmerica plus you've added commercials t...</td>\n",
              "    </tr>\n",
              "    <tr>\n",
              "      <th>2</th>\n",
              "      <td>-0.390625</td>\n",
              "      <td>@VirginAmerica I didn't today... Must mean I n...</td>\n",
              "    </tr>\n",
              "    <tr>\n",
              "      <th>3</th>\n",
              "      <td>0.006250</td>\n",
              "      <td>@VirginAmerica it's really aggressive to blast...</td>\n",
              "    </tr>\n",
              "    <tr>\n",
              "      <th>4</th>\n",
              "      <td>-0.350000</td>\n",
              "      <td>@VirginAmerica and it's a really big bad thing...</td>\n",
              "    </tr>\n",
              "  </tbody>\n",
              "</table>\n",
              "</div>"
            ],
            "text/plain": [
              "   polarity                                             tweets\n",
              "0  0.000000                @VirginAmerica What @dhepburn said.\n",
              "1  0.000000  @VirginAmerica plus you've added commercials t...\n",
              "2 -0.390625  @VirginAmerica I didn't today... Must mean I n...\n",
              "3  0.006250  @VirginAmerica it's really aggressive to blast...\n",
              "4 -0.350000  @VirginAmerica and it's a really big bad thing..."
            ]
          },
          "metadata": {
            "tags": []
          },
          "execution_count": 23
        }
      ]
    },
    {
      "cell_type": "code",
      "metadata": {
        "colab": {
          "base_uri": "https://localhost:8080/",
          "height": 390
        },
        "id": "nB016wUtqpFk",
        "outputId": "64820b30-a31a-44a4-96c3-08e3edda762d"
      },
      "source": [
        "fig, ax = plt.subplots(figsize=(8, 6))\n",
        "\n",
        "sentiment_df.hist(bins=[-1, -0.75, -0.5, -0.25, 0.25, 0.5, 0.75, 1],\n",
        "             ax=ax,\n",
        "             color=\"purple\")\n",
        "\n",
        "plt.title(\"Sentiments from Tweets on Climate Change\")\n",
        "plt.show()"
      ],
      "execution_count": null,
      "outputs": [
        {
          "output_type": "display_data",
          "data": {
            "image/png": "[encoded data removed]",
            "text/plain": [
              "<Figure size 576x432 with 1 Axes>"
            ]
          },
          "metadata": {
            "tags": [],
            "needs_background": "light"
          }
        }
      ]
    },
    {
      "cell_type": "code",
      "metadata": {
        "colab": {
          "base_uri": "https://localhost:8080/",
          "height": 195
        },
        "id": "08JK1pRoqrpo",
        "outputId": "39dfeb43-ce3e-48d7-b565-cfac1081e31a"
      },
      "source": [
        "sentiment_df = sentiment_df[sentiment_df.polarity != 0]\n",
        "\n",
        "sentiment_df.head()"
      ],
      "execution_count": null,
      "outputs": [
        {
          "output_type": "execute_result",
          "data": {
            "text/html": [
              "<div>\n",
              "<style scoped>\n",
              "    .dataframe tbody tr th:only-of-type {\n",
              "        vertical-align: middle;\n",
              "    }\n",
              "\n",
              "    .dataframe tbody tr th {\n",
              "        vertical-align: top;\n",
              "    }\n",
              "\n",
              "    .dataframe thead th {\n",
              "        text-align: right;\n",
              "    }\n",
              "</style>\n",
              "<table border=\"1\" class=\"dataframe\">\n",
              "  <thead>\n",
              "    <tr style=\"text-align: right;\">\n",
              "      <th></th>\n",
              "      <th>polarity</th>\n",
              "      <th>tweets</th>\n",
              "    </tr>\n",
              "  </thead>\n",
              "  <tbody>\n",
              "    <tr>\n",
              "      <th>2</th>\n",
              "      <td>-0.390625</td>\n",
              "      <td>@VirginAmerica I didn't today... Must mean I n...</td>\n",
              "    </tr>\n",
              "    <tr>\n",
              "      <th>3</th>\n",
              "      <td>0.006250</td>\n",
              "      <td>@VirginAmerica it's really aggressive to blast...</td>\n",
              "    </tr>\n",
              "    <tr>\n",
              "      <th>4</th>\n",
              "      <td>-0.350000</td>\n",
              "      <td>@VirginAmerica and it's a really big bad thing...</td>\n",
              "    </tr>\n",
              "    <tr>\n",
              "      <th>5</th>\n",
              "      <td>-0.208333</td>\n",
              "      <td>@VirginAmerica seriously would pay $30 a fligh...</td>\n",
              "    </tr>\n",
              "    <tr>\n",
              "      <th>6</th>\n",
              "      <td>0.466667</td>\n",
              "      <td>@VirginAmerica yes, nearly every time I fly VX...</td>\n",
              "    </tr>\n",
              "  </tbody>\n",
              "</table>\n",
              "</div>"
            ],
            "text/plain": [
              "   polarity                                             tweets\n",
              "2 -0.390625  @VirginAmerica I didn't today... Must mean I n...\n",
              "3  0.006250  @VirginAmerica it's really aggressive to blast...\n",
              "4 -0.350000  @VirginAmerica and it's a really big bad thing...\n",
              "5 -0.208333  @VirginAmerica seriously would pay $30 a fligh...\n",
              "6  0.466667  @VirginAmerica yes, nearly every time I fly VX..."
            ]
          },
          "metadata": {
            "tags": []
          },
          "execution_count": 25
        }
      ]
    },
    {
      "cell_type": "code",
      "metadata": {
        "colab": {
          "base_uri": "https://localhost:8080/",
          "height": 390
        },
        "id": "1bFf0wsyqupp",
        "outputId": "d33b73bb-53b6-42ee-d8b9-5810b6cdcd8f"
      },
      "source": [
        "fig, ax = plt.subplots(figsize=(8, 6))\n",
        "\n",
        "sentiment_df.hist(bins=[-1, -0.75, -0.5, -0.25, 0.0, 0.25, 0.5, 0.75, 1],\n",
        "             ax=ax,\n",
        "             color=\"purple\")\n",
        "\n",
        "plt.title(\"Sentiments from Tweets on Climate Change\")\n",
        "plt.show()"
      ],
      "execution_count": null,
      "outputs": [
        {
          "output_type": "display_data",
          "data": {
            "image/png": "[encoded data removed]",
            "text/plain": [
              "<Figure size 576x432 with 1 Axes>"
            ]
          },
          "metadata": {
            "tags": [],
            "needs_background": "light"
          }
        }
      ]
    },
    {
      "cell_type": "code",
      "metadata": {
        "id": "TMPZO0nSqymn"
      },
      "source": [
        "import numpy as np\n",
        "from scipy.sparse import hstack\n",
        "from sklearn.feature_extraction.text import CountVectorizer\n",
        "cntVectorizer = CountVectorizer(ngram_range=(1,2))"
      ],
      "execution_count": null,
      "outputs": []
    },
    {
      "cell_type": "code",
      "metadata": {
        "id": "lB2PZQLUq1jw"
      },
      "source": [
        "VectorizedData = cntVectorizer.fit_transform(tweets_data.text)\n",
        "\n",
        "IndexedData = hstack((np.array(range(0,VectorizedData.shape[0]))[:,None], VectorizedData))"
      ],
      "execution_count": null,
      "outputs": []
    },
    {
      "cell_type": "code",
      "metadata": {
        "id": "0jZQjCgRq4sg"
      },
      "source": [
        "def sentiment(emotion):\n",
        "    return {\n",
        "        'negative': 0,\n",
        "        'neutral': 1,\n",
        "        'positive' : 2\n",
        "    }[emotion]\n",
        "    \n",
        "targets = tweets_data.airline_sentiment.apply(sentiment)"
      ],
      "execution_count": null,
      "outputs": []
    },
    {
      "cell_type": "code",
      "metadata": {
        "id": "ZElpKl6jq6os"
      },
      "source": [
        "from sklearn.model_selection import train_test_split\n",
        "data_train, data_test, targets_train, targets_test = train_test_split(IndexedData, targets, test_size=0.2, random_state=0)\n",
        "\n",
        "data_train_index = data_train[:,0] \n",
        "data_train = data_train[:,1:] \n",
        "data_test_index = data_test[:,0]\n",
        "data_test = data_test[:,1:] "
      ],
      "execution_count": null,
      "outputs": []
    },
    {
      "cell_type": "code",
      "metadata": {
        "id": "uU1oMjbyrCDO"
      },
      "source": [
        "from sklearn.svm import SVC  \n",
        "\n",
        "\n",
        "model = SVC()  \n",
        "model.fit(data_train, targets_train)\n",
        "predictions = model.predict(data_test)"
      ],
      "execution_count": null,
      "outputs": []
    },
    {
      "cell_type": "code",
      "metadata": {
        "colab": {
          "base_uri": "https://localhost:8080/"
        },
        "id": "WakRZQ5yrD7_",
        "outputId": "81dc696e-58ce-4079-bb7c-820aec110587"
      },
      "source": [
        "from sklearn.metrics import accuracy_score\n",
        "\n",
        "acc_score = accuracy_score(targets_test, predictions)  \n",
        "acc_score"
      ],
      "execution_count": null,
      "outputs": [
        {
          "output_type": "execute_result",
          "data": {
            "text/plain": [
              "0.7810792349726776"
            ]
          },
          "metadata": {
            "tags": []
          },
          "execution_count": 32
        }
      ]
    },
    {
      "cell_type": "code",
      "metadata": {
        "id": "x6Opjr_jrGFg"
      },
      "source": [
        "from sklearn import svm\n",
        "from sklearn.multiclass import OneVsRestClassifier\n",
        "clf = OneVsRestClassifier(svm.SVC())\n",
        " \n",
        "clf_output = clf.fit(data_train, targets_train)"
      ],
      "execution_count": null,
      "outputs": []
    },
    {
      "cell_type": "code",
      "metadata": {
        "colab": {
          "base_uri": "https://localhost:8080/"
        },
        "id": "TcT-5gQirJiE",
        "outputId": "fbf1e8e9-af71-4086-d6a4-1ac0ae41dc0f"
      },
      "source": [
        "clf.score(data_test, targets_test)"
      ],
      "execution_count": null,
      "outputs": [
        {
          "output_type": "execute_result",
          "data": {
            "text/plain": [
              "0.7872267759562842"
            ]
          },
          "metadata": {
            "tags": []
          },
          "execution_count": 34
        }
      ]
    }
  ]
}